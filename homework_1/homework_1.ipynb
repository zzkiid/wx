{
 "cells": [
  {
   "cell_type": "code",
   "execution_count": 1,
   "metadata": {},
   "outputs": [],
   "source": [
    "%matplotlib inline"
   ]
  },
  {
   "cell_type": "code",
   "execution_count": 2,
   "metadata": {},
   "outputs": [
    {
     "name": "stdout",
     "output_type": "stream",
     "text": [
      "n_digits: 10, \t n_samples 1797, \t n_features 64\n",
      "init                \ttime \tNMI  \tHomo \tCpl  \n",
      "KMeans              \t0.13s\t0.627\t0.603\t0.652\n",
      "AffinityPropagation \t3.86s\t0.655\t0.932\t0.460\n",
      "MeanShift           \t8.35s\t0.675\t0.833\t0.546\n",
      "SpectralClustering  \t310.92s\t0.030\t0.006\t0.148\n",
      "AgglomerativeClustering\t0.19s\t0.797\t0.758\t0.836\n",
      "AgglomerativeClustering\t0.14s\t0.797\t0.758\t0.836\n",
      "DBSCAN              \t0.37s\t0.444\t0.297\t0.663\n"
     ]
    }
   ],
   "source": [
    "from time import time\n",
    "import numpy as np\n",
    "import matplotlib.pyplot as plt\n",
    "\n",
    "import warnings\n",
    "warnings.filterwarnings(\"ignore\")\n",
    "from sklearn import metrics\n",
    "from sklearn.cluster import KMeans\n",
    "from sklearn.datasets import load_digits\n",
    "from sklearn.decomposition import PCA\n",
    "from sklearn.preprocessing import scale\n",
    "from sklearn.cluster import AffinityPropagation\n",
    "from sklearn.cluster import MeanShift\n",
    "from sklearn.cluster import SpectralClustering\n",
    "from sklearn.cluster import AgglomerativeClustering\n",
    "from sklearn.cluster import DBSCAN\n",
    "from sklearn.cluster import AgglomerativeClustering\n",
    "\n",
    "np.random.seed(30)\n",
    "\n",
    "digits = load_digits()\n",
    "data = scale(digits.data)\n",
    "\n",
    "n_samples, n_features = data.shape\n",
    "n_digits = len(np.unique(digits.target))\n",
    "labels = digits.target\n",
    "\n",
    "sample_size = 300\n",
    "\n",
    "print(\"n_digits: %d, \\t n_samples %d, \\t n_features %d\"\n",
    "      % (n_digits, n_samples, n_features))\n",
    "\n",
    "print('%-20s\\t%-5s\\t%-5s\\t%-5s\\t%-5s'%(\"init\",\"time\",\"NMI\",\"Homo\",\"Cpl\"))\n",
    "# print(digits)\n",
    "def evalution(estimator,name,data):\n",
    "    t0 = time()\n",
    "    estimator.fit(data)\n",
    "    print('%-20s\\t%.2fs\\t%.3f\\t%.3f\\t%.3f'\n",
    "          % (name, (time() - t0),\n",
    "             metrics.normalized_mutual_info_score(labels,estimator.labels_),\n",
    "             metrics.homogeneity_score(labels, estimator.labels_),\n",
    "             metrics.completeness_score(labels, estimator.labels_)\n",
    "             ))\n",
    "\n",
    "evalution(KMeans(init='random', n_clusters=n_digits, n_init=10),\n",
    "              name=\"KMeans\", data=data)\n",
    "\n",
    "evalution(AffinityPropagation(),name=\"AffinityPropagation\",data=data)\n",
    "\n",
    "evalution(MeanShift(bandwidth=5),name=\"MeanShift\",data=data)\n",
    "\n",
    "evalution(SpectralClustering(n_clusters=n_digits,\n",
    "                             assign_labels=\"discretize\",\n",
    "                             random_state=0),\n",
    "          name=\"SpectralClustering\",\n",
    "          data=data)\n",
    "\n",
    "evalution(AgglomerativeClustering(linkage=\"ward\", n_clusters=10),name=\"AgglomerativeClustering\",data=data)\n",
    "\n",
    "evalution(AgglomerativeClustering(n_clusters=n_digits),name=\"AgglomerativeClustering\",data=data)\n",
    "\n",
    "evalution(DBSCAN(eps=4, min_samples=15),name=\"DBSCAN\",data=data)"
   ]
  }
 ],
 "metadata": {
  "kernelspec": {
   "display_name": "Python 3",
   "language": "python",
   "name": "python3"
  },
  "language_info": {
   "codemirror_mode": {
    "name": "ipython",
    "version": 3
   },
   "file_extension": ".py",
   "mimetype": "text/x-python",
   "name": "python",
   "nbconvert_exporter": "python",
   "pygments_lexer": "ipython3",
   "version": "3.7.3"
  }
 },
 "nbformat": 4,
 "nbformat_minor": 1
}
